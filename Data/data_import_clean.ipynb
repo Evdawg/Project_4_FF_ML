{
 "cells": [
  {
   "cell_type": "code",
   "execution_count": 17,
   "id": "9e83a2db",
   "metadata": {},
   "outputs": [],
   "source": [
    "import nfl_data_py as nfl\n",
    "import numpy as np\n",
    "import pandas as pd"
   ]
  },
  {
   "cell_type": "code",
   "execution_count": 18,
   "id": "cd3d1945",
   "metadata": {},
   "outputs": [],
   "source": [
    "# set year range for data import:\n",
    "years = list(np.arange(1999,2005))"
   ]
  },
  {
   "cell_type": "code",
   "execution_count": 19,
   "id": "d91d2c08",
   "metadata": {},
   "outputs": [],
   "source": [
    "weekly = nfl.import_weekly_data(years)\n",
    "nfl.clean_nfl_data(weekly)"
   ]
  },
  {
   "cell_type": "code",
   "execution_count": 20,
   "id": "aea9051f",
   "metadata": {},
   "outputs": [],
   "source": [
    "len(weekly)"
   ]
  },
  {
   "cell_type": "code",
   "execution_count": 21,
   "id": "74311bf7",
   "metadata": {},
   "outputs": [],
   "source": [
    "quant_cols = ['completions', 'attempts', 'passing_yards',\n",
    "       'passing_tds', 'interceptions', 'sacks', 'sack_yards', 'sack_fumbles',\n",
    "       'sack_fumbles_lost', 'passing_air_yards', 'passing_yards_after_catch',\n",
    "       'passing_first_downs', 'passing_epa', 'passing_2pt_conversions', 'pacr',\n",
    "       'dakota', 'carries', 'rushing_yards', 'rushing_tds', 'rushing_fumbles',\n",
    "       'rushing_fumbles_lost', 'rushing_first_downs', 'rushing_epa',\n",
    "       'rushing_2pt_conversions', 'receptions', 'targets', 'receiving_yards',\n",
    "       'receiving_tds', 'receiving_fumbles', 'receiving_fumbles_lost',\n",
    "       'receiving_air_yards', 'receiving_yards_after_catch',\n",
    "       'receiving_first_downs', 'receiving_epa', 'receiving_2pt_conversions',\n",
    "       'racr', 'target_share', 'air_yards_share', 'wopr', 'special_teams_tds',\n",
    "       'fantasy_points', 'fantasy_points_ppr']\n",
    "\n",
    "#per chatgpt: reset_index() is used to restore the default integer-based index and move the current index (which could be a multi-level index) back into regular columns.\n",
    "grouped_by_week = weekly.groupby([\"season\", \"week\", \"player_id\", \"position_group\"])[quant_cols].mean().reset_index()\n",
    "\n",
    "# Group the data by 'position_group' and calculate medians for the selected columns\n",
    "medians = grouped_by_week.groupby('position_group')[quant_cols].transform('median')\n",
    "\n",
    "# Replace missing values in the selected columns with corresponding medians\n",
    "grouped_by_week[quant_cols] = grouped_by_week[quant_cols].fillna(medians)\n",
    "\n",
    "grouped_by_week"
   ]
  },
  {
   "cell_type": "code",
   "execution_count": 22,
   "id": "a56b460e",
   "metadata": {},
   "outputs": [],
   "source": [
    "excluded_position_groups = ['DB', 'LB', 'OL', 'SPEC', 'DL']\n",
    "mask = ~grouped_by_week['position_group'].isin(excluded_position_groups)\n",
    "grouped_by_week = grouped_by_week[mask]\n",
    "\n",
    "grouped_by_week"
   ]
  },
  {
   "cell_type": "markdown",
   "id": "12289c3d",
   "metadata": {},
   "source": [
    "## Optionally Write to postgreSQL server:"
   ]
  },
  {
   "cell_type": "code",
   "execution_count": 23,
   "id": "17f8b111",
   "metadata": {},
   "outputs": [],
   "source": [
    "# import dependencies\n",
    "\n",
    "import datetime as dt\n",
    "from python_to_postgres import python_df_to_postgres\n",
    "from sqlalchemy import create_engine, URL"
   ]
  },
  {
   "cell_type": "code",
   "execution_count": 24,
   "id": "d01174f6",
   "metadata": {},
   "outputs": [],
   "source": [
    "# python_df_to_postgres references a local config.ini for user db info\n",
    "# see example_config.ini\n",
    "# do not push local .ini to Project github\n",
    "print(f\"Attempting to write the dataframe to postgreSQL: \\n\")\n",
    "\n",
    "## dataframe = pandas DataFrame object\n",
    "## table_name = string value eg: my_table_name'\n",
    "## if_exists = string value eg:'replace'  # or one of: {‘fail’, ‘replace’, ‘append’, 'replace'}\n",
    "python_df_to_postgres(grouped_by_week, 'grouped_by_week', 'replace')"
   ]
  },
  {
   "cell_type": "code",
   "execution_count": null,
   "id": "1875b8fc",
   "metadata": {},
   "outputs": [],
   "source": []
  },
  {
   "cell_type": "code",
   "execution_count": null,
   "id": "5864a145",
   "metadata": {},
   "outputs": [],
   "source": []
  }
 ],
 "metadata": {
  "kernelspec": {
   "display_name": "Python 3 (ipykernel)",
   "language": "python",
   "name": "python3"
  },
  "language_info": {
   "codemirror_mode": {
    "name": "ipython",
    "version": 3
   },
   "file_extension": ".py",
   "mimetype": "text/x-python",
   "name": "python",
   "nbconvert_exporter": "python",
   "pygments_lexer": "ipython3",
   "version": "3.9.13"
  }
 },
 "nbformat": 4,
 "nbformat_minor": 5
}
