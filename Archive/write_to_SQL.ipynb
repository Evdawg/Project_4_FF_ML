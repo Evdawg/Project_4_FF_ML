{
 "cells": [
  {
   "cell_type": "code",
   "execution_count": null,
   "id": "8ac663cf",
   "metadata": {},
   "outputs": [],
   "source": [
    "import datetime as dt\n",
    "\n",
    "from python_to_postgres import python_df_to_postgres\n",
    "\n",
    "start_year = 2021\n",
    "curr_year = dt.date.today().year\n",
    "print(f\"Loading data between dates: {start_year} - {curr_year - 1}\")\n",
    "years_range = [year for year in range(start_year, curr_year)]\n",
    "# print(years_range)\n",
    "\n",
    "weekly_data = nfl.import_weekly_data(years_range)\n",
    "weekly_df = pd.DataFrame(weekly_data)\n",
    "nfl.clean_nfl_data(weekly_df)\n",
    "\n",
    "print(weekly_df.head(15))\n",
    "\n",
    "# print(f\"Attempting to write the dataframe to postgreSQL: \\n\")\n",
    "# python_df_to_postgres(weekly_df, 'nfl_data_py_weekly', 'replace')\n"
   ]
  }
 ],
 "metadata": {
  "kernelspec": {
   "display_name": "Python 3 (ipykernel)",
   "language": "python",
   "name": "python3"
  },
  "language_info": {
   "codemirror_mode": {
    "name": "ipython",
    "version": 3
   },
   "file_extension": ".py",
   "mimetype": "text/x-python",
   "name": "python",
   "nbconvert_exporter": "python",
   "pygments_lexer": "ipython3",
   "version": "3.9.13"
  }
 },
 "nbformat": 4,
 "nbformat_minor": 5
}
